{
  "cells": [
    {
      "cell_type": "markdown",
      "metadata": {},
      "source": [
        "\n# Finding and Plotting Solar Orbiter EUI Data\n\nThis example demonstrates how to:\n- Search for Solar Orbiter EUI (Extreme Ultraviolet Imager) data\n- Download a sample image\n- Plot it using SunPy\n"
      ]
    },
    {
      "cell_type": "code",
      "execution_count": null,
      "metadata": {
        "collapsed": false
      },
      "outputs": [],
      "source": [
        "import sunpy.map\nimport matplotlib.pyplot as plt\nfrom sunpy.net import Fido, attrs as a\nimport sunpy_soar\n\n# Search for Solar Orbiter EUI images in a given time range\nsearch_results = Fido.search(a.Time(\"2022-03-01\", \"2022-03-01 01:00\"), \n\t\t\t\t             a.soar.Product(\"EUI-FSI174-IMAGE\"), \n\t\t\t\t             a.Level(2))\n\n# Print search results\nprint(search_results)\n\n# Fetch the first available file\ndownloaded_files = Fido.fetch(search_results[0, 0])\n\n# Load the downloaded EUI image\neui_map = sunpy.map.Map(downloaded_files[0])\n\n# Plot the EUI image\nplt.figure(figsize=(8, 6))\neui_map.plot()\nplt.colorbar()\nplt.title(\"Solar Orbiter EUI Image\")\nplt.show()"
      ]
    }
  ],
  "metadata": {
    "kernelspec": {
      "display_name": "Python 3",
      "language": "python",
      "name": "python3"
    },
    "language_info": {
      "codemirror_mode": {
        "name": "ipython",
        "version": 3
      },
      "file_extension": ".py",
      "mimetype": "text/x-python",
      "name": "python",
      "nbconvert_exporter": "python",
      "pygments_lexer": "ipython3",
      "version": "3.13.2"
    }
  },
  "nbformat": 4,
  "nbformat_minor": 0
}